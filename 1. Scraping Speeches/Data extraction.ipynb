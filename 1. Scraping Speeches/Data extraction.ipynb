{
 "cells": [
  {
   "cell_type": "code",
   "execution_count": null,
   "id": "efa2fe3a",
   "metadata": {},
   "outputs": [
    {
     "name": "stdout",
     "output_type": "stream",
     "text": [
      "Requirement already satisfied: requests in c:\\users\\franc\\documents\\github\\nlp_project\\.venv\\lib\\site-packages (from -r requirements.txt (line 1)) (2.32.4)\n",
      "Collecting beautifulsoup4 (from -r requirements.txt (line 2))\n",
      "  Downloading beautifulsoup4-4.13.4-py3-none-any.whl.metadata (3.8 kB)\n",
      "Collecting tqdm (from -r requirements.txt (line 3))\n",
      "  Downloading tqdm-4.67.1-py3-none-any.whl.metadata (57 kB)\n",
      "     ---------------------------------------- 0.0/57.7 kB ? eta -:--:--\n",
      "     ---------------------------------------- 0.0/57.7 kB ? eta -:--:--\n",
      "     ------------- ------------------------ 20.5/57.7 kB 330.3 kB/s eta 0:00:01\n",
      "     -------------------- ----------------- 30.7/57.7 kB 330.3 kB/s eta 0:00:01\n",
      "     --------------------------------- ---- 51.2/57.7 kB 375.8 kB/s eta 0:00:01\n",
      "     -------------------------------------- 57.7/57.7 kB 338.8 kB/s eta 0:00:00\n",
      "Requirement already satisfied: colorama in c:\\users\\franc\\documents\\github\\nlp_project\\.venv\\lib\\site-packages (from -r requirements.txt (line 4)) (0.4.6)\n",
      "Requirement already satisfied: charset_normalizer<4,>=2 in c:\\users\\franc\\documents\\github\\nlp_project\\.venv\\lib\\site-packages (from requests->-r requirements.txt (line 1)) (3.4.2)\n",
      "Requirement already satisfied: idna<4,>=2.5 in c:\\users\\franc\\documents\\github\\nlp_project\\.venv\\lib\\site-packages (from requests->-r requirements.txt (line 1)) (3.10)\n",
      "Requirement already satisfied: urllib3<3,>=1.21.1 in c:\\users\\franc\\documents\\github\\nlp_project\\.venv\\lib\\site-packages (from requests->-r requirements.txt (line 1)) (2.5.0)\n",
      "Requirement already satisfied: certifi>=2017.4.17 in c:\\users\\franc\\documents\\github\\nlp_project\\.venv\\lib\\site-packages (from requests->-r requirements.txt (line 1)) (2025.6.15)\n",
      "Collecting soupsieve>1.2 (from beautifulsoup4->-r requirements.txt (line 2))\n",
      "  Downloading soupsieve-2.7-py3-none-any.whl.metadata (4.6 kB)\n",
      "Collecting typing-extensions>=4.0.0 (from beautifulsoup4->-r requirements.txt (line 2))\n",
      "  Using cached typing_extensions-4.14.0-py3-none-any.whl.metadata (3.0 kB)\n",
      "Downloading beautifulsoup4-4.13.4-py3-none-any.whl (187 kB)\n",
      "   ---------------------------------------- 0.0/187.3 kB ? eta -:--:--\n",
      "   ------------------- -------------------- 92.2/187.3 kB 2.6 MB/s eta 0:00:01\n",
      "   -------------------------------- ------- 153.6/187.3 kB 1.8 MB/s eta 0:00:01\n",
      "   ---------------------------------------- 187.3/187.3 kB 1.4 MB/s eta 0:00:00\n",
      "Downloading tqdm-4.67.1-py3-none-any.whl (78 kB)\n",
      "   ---------------------------------------- 0.0/78.5 kB ? eta -:--:--\n",
      "   ------------------------------------ --- 71.7/78.5 kB 2.0 MB/s eta 0:00:01\n",
      "   ---------------------------------------- 78.5/78.5 kB 1.1 MB/s eta 0:00:00\n",
      "Downloading soupsieve-2.7-py3-none-any.whl (36 kB)\n",
      "Using cached typing_extensions-4.14.0-py3-none-any.whl (43 kB)\n",
      "Installing collected packages: typing-extensions, tqdm, soupsieve, beautifulsoup4\n",
      "Successfully installed beautifulsoup4-4.13.4 soupsieve-2.7 tqdm-4.67.1 typing-extensions-4.14.0\n"
     ]
    },
    {
     "name": "stderr",
     "output_type": "stream",
     "text": [
      "\n",
      "[notice] A new release of pip is available: 24.0 -> 25.1.1\n",
      "[notice] To update, run: c:\\Users\\franc\\Documents\\GitHub\\nlp_project\\.venv\\Scripts\\python.exe -m pip install --upgrade pip\n"
     ]
    }
   ],
   "source": [
    "# Install required packages from requirement.txt\n",
    "import sys\n",
    "!{sys.executable} -m pip install -r requirements.txt"
   ]
  },
  {
   "cell_type": "code",
   "execution_count": 10,
   "id": "3a0501e5",
   "metadata": {},
   "outputs": [],
   "source": [
    "import os\n",
    "import requests\n",
    "from bs4 import BeautifulSoup\n",
    "import csv\n",
    "import time\n",
    "import random\n",
    "from tqdm import tqdm\n",
    "from colorama import Fore, Style"
   ]
  },
  {
   "cell_type": "code",
   "execution_count": 5,
   "id": "21378986",
   "metadata": {},
   "outputs": [],
   "source": [
    "# Constants\n",
    "BASE_URL = \"https://www.casarosada.gob.ar/informacion/discursos\"\n",
    "OUTPUT_DIR = \"scraped_data\"\n",
    "CSV_FILE = os.path.join(OUTPUT_DIR, \"speeches.csv\")\n",
    "PROGRESS_FILE = os.path.join(OUTPUT_DIR, \"progress.txt\")\n",
    "\n",
    "HEADERS = {\n",
    "    \"User-Agent\": \"Mozilla/5.0 (Windows NT 10.0; Win64; x64) AppleWebKit/537.36 (KHTML, like Gecko) Chrome/114.0.0.0 Safari/537.36\"\n",
    "}"
   ]
  },
  {
   "cell_type": "code",
   "execution_count": 6,
   "id": "3d18e623",
   "metadata": {},
   "outputs": [
    {
     "name": "stdout",
     "output_type": "stream",
     "text": [
      "\u001b[32m\n",
      "Scraping página 1...\u001b[0m\n"
     ]
    },
    {
     "name": "stderr",
     "output_type": "stream",
     "text": [
      "Discursos en la página:   2%|▎         | 1/40 [00:06<03:58,  6.11s/it]"
     ]
    },
    {
     "name": "stdout",
     "output_type": "stream",
     "text": [
      "\u001b[31m[ERROR] No se pudo acceder a: https://www.casarosada.gob.ar/informacion/discursos/50997-palabras-del-presidente-de-la-nacion-javier-milei-luego-de-recibir-el-premio-escuela-de-salamanca-desde-el-centro-riojano-espana\n",
      "('Connection aborted.', RemoteDisconnected('Remote end closed connection without response'))\u001b[0m\n"
     ]
    },
    {
     "name": "stderr",
     "output_type": "stream",
     "text": [
      "Discursos en la página:  15%|█▌        | 6/40 [00:30<03:03,  5.39s/it]"
     ]
    },
    {
     "name": "stdout",
     "output_type": "stream",
     "text": [
      "\u001b[31m[ERROR] No se pudo acceder a: https://www.casarosada.gob.ar/informacion/discursos/50992-palabras-del-presidente-de-la-nacion-javier-milei-en-jerusalen\n",
      "('Connection aborted.', RemoteDisconnected('Remote end closed connection without response'))\u001b[0m\n"
     ]
    },
    {
     "name": "stderr",
     "output_type": "stream",
     "text": [
      "Discursos en la página:  18%|█▊        | 7/40 [00:34<02:38,  4.80s/it]"
     ]
    },
    {
     "name": "stdout",
     "output_type": "stream",
     "text": [
      "\u001b[31m[ERROR] No se pudo acceder a: https://www.casarosada.gob.ar/informacion/discursos/50989-discurso-del-presidente-de-la-nacion-javier-milei-en-el-madrid-economic-forum-espana\n",
      "('Connection aborted.', RemoteDisconnected('Remote end closed connection without response'))\u001b[0m\n"
     ]
    },
    {
     "name": "stderr",
     "output_type": "stream",
     "text": [
      "Discursos en la página:  25%|██▌       | 10/40 [00:51<02:49,  5.65s/it]"
     ]
    },
    {
     "name": "stdout",
     "output_type": "stream",
     "text": [
      "\u001b[31m[ERROR] No se pudo acceder a: https://www.casarosada.gob.ar/informacion/discursos/50959-discurso-del-presidente-javier-milei-en-la-11-edicion-del-latam-economic-forum-2025-en-la-ciudad-de-buenos-aires\n",
      "('Connection aborted.', RemoteDisconnected('Remote end closed connection without response'))\u001b[0m\n"
     ]
    },
    {
     "name": "stderr",
     "output_type": "stream",
     "text": [
      "Discursos en la página:  38%|███▊      | 15/40 [01:20<02:32,  6.10s/it]"
     ]
    },
    {
     "name": "stdout",
     "output_type": "stream",
     "text": [
      "\u001b[31m[ERROR] No se pudo acceder a: https://www.casarosada.gob.ar/informacion/discursos/50926-palabras-a-la-prensa-del-presidente-javier-milei-en-declaracion-conjunta-durante-la-visita-oficial-a-la-republica-del-paraguay-desde-el-palacio-de-gobierno\n",
      "('Connection aborted.', RemoteDisconnected('Remote end closed connection without response'))\u001b[0m\n"
     ]
    },
    {
     "name": "stderr",
     "output_type": "stream",
     "text": [
      "Discursos en la página:  50%|█████     | 20/40 [01:45<01:41,  5.08s/it]"
     ]
    },
    {
     "name": "stdout",
     "output_type": "stream",
     "text": [
      "\u001b[31m[ERROR] No se pudo acceder a: https://www.casarosada.gob.ar/informacion/discursos/50868-discurso-del-presidente-javier-milei-en-el-cpac-de-washington-d-c-2025\n",
      "('Connection aborted.', RemoteDisconnected('Remote end closed connection without response'))\u001b[0m\n"
     ]
    },
    {
     "name": "stderr",
     "output_type": "stream",
     "text": [
      "Discursos en la página:  52%|█████▎    | 21/40 [01:48<01:26,  4.55s/it]"
     ]
    },
    {
     "name": "stdout",
     "output_type": "stream",
     "text": [
      "\u001b[31m[ERROR] No se pudo acceder a: https://www.casarosada.gob.ar/informacion/discursos/50866-discurso-del-presidente-javier-milei-en-el-banco-interamericano-de-desarrollo-bid-en-washington-d-c\n",
      "('Connection aborted.', RemoteDisconnected('Remote end closed connection without response'))\u001b[0m\n"
     ]
    },
    {
     "name": "stderr",
     "output_type": "stream",
     "text": [
      "Discursos en la página:  60%|██████    | 24/40 [02:02<01:20,  5.02s/it]"
     ]
    },
    {
     "name": "stdout",
     "output_type": "stream",
     "text": [
      "\u001b[31m[ERROR] No se pudo acceder a: https://www.casarosada.gob.ar/informacion/discursos/50848-discurso-del-presidente-de-la-nacion-javier-milei-desde-el-foro-de-davos-suiza\n",
      "('Connection aborted.', RemoteDisconnected('Remote end closed connection without response'))\u001b[0m\n"
     ]
    },
    {
     "name": "stderr",
     "output_type": "stream",
     "text": [
      "Discursos en la página:  62%|██████▎   | 25/40 [02:07<01:13,  4.90s/it]"
     ]
    },
    {
     "name": "stdout",
     "output_type": "stream",
     "text": [
      "\u001b[31m[ERROR] No se pudo acceder a: https://www.casarosada.gob.ar/informacion/discursos/50844-palabras-del-presidente-de-la-nacion-javier-milei-en-el-milken-center-en-washington-d-c\n",
      "('Connection aborted.', RemoteDisconnected('Remote end closed connection without response'))\u001b[0m\n"
     ]
    },
    {
     "name": "stderr",
     "output_type": "stream",
     "text": [
      "Discursos en la página:  68%|██████▊   | 27/40 [02:15<00:57,  4.41s/it]"
     ]
    },
    {
     "name": "stdout",
     "output_type": "stream",
     "text": [
      "\u001b[31m[ERROR] No se pudo acceder a: https://www.casarosada.gob.ar/informacion/discursos/50841-palabras-del-presidente-javier-milei-en-la-gala-inaugural-hispanica-tras-recibir-el-premio-lws-2025-titan-de-la-reforma-economica-washington-dc\n",
      "('Connection aborted.', RemoteDisconnected('Remote end closed connection without response'))\u001b[0m\n"
     ]
    },
    {
     "name": "stderr",
     "output_type": "stream",
     "text": [
      "Discursos en la página:  70%|███████   | 28/40 [02:19<00:51,  4.25s/it]"
     ]
    },
    {
     "name": "stdout",
     "output_type": "stream",
     "text": [
      "\u001b[31m[ERROR] No se pudo acceder a: https://www.casarosada.gob.ar/informacion/discursos/50826-el-presidente-de-la-nacion-realiza-anuncios-en-materia-nuclear\n",
      "('Connection aborted.', RemoteDisconnected('Remote end closed connection without response'))\u001b[0m\n"
     ]
    },
    {
     "name": "stderr",
     "output_type": "stream",
     "text": [
      "Discursos en la página:  72%|███████▎  | 29/40 [02:22<00:45,  4.14s/it]"
     ]
    },
    {
     "name": "stdout",
     "output_type": "stream",
     "text": [
      "\u001b[31m[ERROR] No se pudo acceder a: https://www.casarosada.gob.ar/informacion/discursos/50825-palabras-del-presidente-de-la-nacion-javier-milei-en-la-inauguracion-de-la-nueva-sede-de-la-bolsa-de-comercio-de-cordoba\n",
      "('Connection aborted.', RemoteDisconnected('Remote end closed connection without response'))\u001b[0m\n"
     ]
    },
    {
     "name": "stderr",
     "output_type": "stream",
     "text": [
      "Discursos en la página:  82%|████████▎ | 33/40 [02:45<00:38,  5.48s/it]"
     ]
    },
    {
     "name": "stdout",
     "output_type": "stream",
     "text": [
      "\u001b[31m[ERROR] No se pudo acceder a: https://www.casarosada.gob.ar/informacion/discursos/50820-discurso-del-presidente-javier-milei-tras-recibir-el-premio-internacional-milton-friedman-en-roma\n",
      "('Connection aborted.', RemoteDisconnected('Remote end closed connection without response'))\u001b[0m\n"
     ]
    },
    {
     "name": "stderr",
     "output_type": "stream",
     "text": [
      "Discursos en la página:  85%|████████▌ | 34/40 [02:49<00:30,  5.01s/it]"
     ]
    },
    {
     "name": "stdout",
     "output_type": "stream",
     "text": [
      "\u001b[31m[ERROR] No se pudo acceder a: https://www.casarosada.gob.ar/informacion/discursos/50817-discurso-del-presidente-javier-milei-en-cadena-nacional-por-el-ano-de-gestion\n",
      "('Connection aborted.', RemoteDisconnected('Remote end closed connection without response'))\u001b[0m\n"
     ]
    },
    {
     "name": "stderr",
     "output_type": "stream",
     "text": [
      "Discursos en la página:  88%|████████▊ | 35/40 [02:53<00:23,  4.69s/it]"
     ]
    },
    {
     "name": "stdout",
     "output_type": "stream",
     "text": [
      "\u001b[31m[ERROR] No se pudo acceder a: https://www.casarosada.gob.ar/informacion/discursos/50813-palabras-del-presidente-de-la-nacion-javier-milei-luego-de-recibir-un-reconocimiento-de-la-asociacion-de-dirigentes-de-marketing-de-uruguay-en-montevideo\n",
      "('Connection aborted.', RemoteDisconnected('Remote end closed connection without response'))\u001b[0m\n"
     ]
    },
    {
     "name": "stderr",
     "output_type": "stream",
     "text": [
      "Discursos en la página:  92%|█████████▎| 37/40 [03:01<00:13,  4.36s/it]"
     ]
    },
    {
     "name": "stdout",
     "output_type": "stream",
     "text": [
      "\u001b[31m[ERROR] No se pudo acceder a: https://www.casarosada.gob.ar/informacion/discursos/50811-palabras-del-presidente-de-la-nacion-javier-milei-en-la-lxv-cumbre-del-mercosur-en-montevideo-uruguay\n",
      "('Connection aborted.', RemoteDisconnected('Remote end closed connection without response'))\u001b[0m\n"
     ]
    },
    {
     "name": "stderr",
     "output_type": "stream",
     "text": [
      "Discursos en la página:  95%|█████████▌| 38/40 [03:05<00:08,  4.31s/it]"
     ]
    },
    {
     "name": "stdout",
     "output_type": "stream",
     "text": [
      "\u001b[31m[ERROR] No se pudo acceder a: https://www.casarosada.gob.ar/informacion/discursos/50808-palabras-del-presidente-de-la-nacion-javier-milei-en-el-encuentro-de-los-lideres-en-el-cronista\n",
      "('Connection aborted.', RemoteDisconnected('Remote end closed connection without response'))\u001b[0m\n"
     ]
    },
    {
     "name": "stderr",
     "output_type": "stream",
     "text": [
      "Discursos en la página: 100%|██████████| 40/40 [03:13<00:00,  4.83s/it]\n"
     ]
    },
    {
     "name": "stdout",
     "output_type": "stream",
     "text": [
      "\u001b[32m\n",
      "Scraping página 2...\u001b[0m\n"
     ]
    },
    {
     "name": "stderr",
     "output_type": "stream",
     "text": [
      "Discursos en la página:   5%|▌         | 2/40 [00:10<03:19,  5.25s/it]"
     ]
    },
    {
     "name": "stdout",
     "output_type": "stream",
     "text": [
      "\u001b[31m[ERROR] No se pudo acceder a: https://www.casarosada.gob.ar/informacion/discursos/50792-palabras-del-presidente-de-la-nacion-javier-milei-en-la-entrega-de-sables-a-las-fuerzas-de-seguridad-en-el-salon-blanco-de-la-casa-rosada\n",
      "('Connection aborted.', RemoteDisconnected('Remote end closed connection without response'))\u001b[0m\n"
     ]
    },
    {
     "name": "stderr",
     "output_type": "stream",
     "text": [
      "Discursos en la página:  10%|█         | 4/40 [00:19<02:59,  5.00s/it]"
     ]
    },
    {
     "name": "stdout",
     "output_type": "stream",
     "text": [
      "\u001b[31m[ERROR] No se pudo acceder a: https://www.casarosada.gob.ar/informacion/discursos/50785-declaracion-conjunta-del-presidente-de-la-nacion-javier-milei-y-la-primer-ministro-de-italia-giorgia-meloni-en-visita-de-estado-a-nuestro-pais-desde-casa-rosada\n",
      "('Connection aborted.', RemoteDisconnected('Remote end closed connection without response'))\u001b[0m\n"
     ]
    },
    {
     "name": "stderr",
     "output_type": "stream",
     "text": [
      "Discursos en la página:  12%|█▎        | 5/40 [00:23<02:42,  4.65s/it]"
     ]
    },
    {
     "name": "stdout",
     "output_type": "stream",
     "text": [
      "\u001b[31m[ERROR] No se pudo acceder a: https://www.casarosada.gob.ar/informacion/discursos/50780-intervencion-del-presidente-de-la-republica-argentina-javier-milei-en-la-sesion-ii-de-la-cumbre-de-lideres-del-g20\n",
      "('Connection aborted.', RemoteDisconnected('Remote end closed connection without response'))\u001b[0m\n"
     ]
    },
    {
     "name": "stderr",
     "output_type": "stream",
     "text": [
      "Discursos en la página:  18%|█▊        | 7/40 [00:30<02:17,  4.15s/it]"
     ]
    },
    {
     "name": "stdout",
     "output_type": "stream",
     "text": [
      "\u001b[31m[ERROR] No se pudo acceder a: https://www.casarosada.gob.ar/informacion/discursos/50777-palabras-del-presidente-de-la-nacion-javier-milei-ante-inversores-de-la-cpac-en-mar-a-lago-florida-estados-unidos\n",
      "('Connection aborted.', RemoteDisconnected('Remote end closed connection without response'))\u001b[0m\n"
     ]
    },
    {
     "name": "stderr",
     "output_type": "stream",
     "text": [
      "Discursos en la página:  25%|██▌       | 10/40 [00:45<02:19,  4.66s/it]"
     ]
    },
    {
     "name": "stdout",
     "output_type": "stream",
     "text": [
      "\u001b[31m[ERROR] No se pudo acceder a: https://www.casarosada.gob.ar/informacion/discursos/50769-palabras-del-presidente-de-la-nacion-javier-milei-en-la-gala-anual-de-la-fundacion-endeavor\n",
      "('Connection aborted.', RemoteDisconnected('Remote end closed connection without response'))\u001b[0m\n"
     ]
    },
    {
     "name": "stderr",
     "output_type": "stream",
     "text": [
      "Discursos en la página:  30%|███       | 12/40 [00:53<02:01,  4.34s/it]"
     ]
    },
    {
     "name": "stdout",
     "output_type": "stream",
     "text": [
      "\u001b[31m[ERROR] No se pudo acceder a: https://www.casarosada.gob.ar/informacion/discursos/50767-palabras-del-presidente-de-la-nacion-javier-milei-despues-de-visitar-la-sede-corporativa-de-uala-en-caba\n",
      "('Connection aborted.', RemoteDisconnected('Remote end closed connection without response'))\u001b[0m\n"
     ]
    },
    {
     "name": "stderr",
     "output_type": "stream",
     "text": [
      "Discursos en la página:  45%|████▌     | 18/40 [01:27<01:59,  5.45s/it]"
     ]
    },
    {
     "name": "stdout",
     "output_type": "stream",
     "text": [
      "\u001b[31m[ERROR] No se pudo acceder a: https://www.casarosada.gob.ar/informacion/discursos/50729-palabras-del-presidente-de-la-nacion-javier-milei-en-el-60-coloquio-de-idea-2024-mar-del-plata\n",
      "('Connection aborted.', RemoteDisconnected('Remote end closed connection without response'))\u001b[0m\n"
     ]
    },
    {
     "name": "stderr",
     "output_type": "stream",
     "text": [
      "Discursos en la página:  50%|█████     | 20/40 [01:36<01:38,  4.94s/it]"
     ]
    },
    {
     "name": "stdout",
     "output_type": "stream",
     "text": [
      "\u001b[31m[ERROR] No se pudo acceder a: https://www.casarosada.gob.ar/informacion/discursos/50713-palabras-del-presidente-de-la-nacion-javier-milei-en-la-presentacion-del-centro-cultural-palacio-libertad-domingo-faustino-sarmiento-ex-cck\n",
      "('Connection aborted.', RemoteDisconnected('Remote end closed connection without response'))\u001b[0m\n"
     ]
    },
    {
     "name": "stderr",
     "output_type": "stream",
     "text": [
      "Discursos en la página:  75%|███████▌  | 30/40 [02:26<00:52,  5.23s/it]"
     ]
    },
    {
     "name": "stdout",
     "output_type": "stream",
     "text": [
      "\u001b[31m[ERROR] No se pudo acceder a: https://www.casarosada.gob.ar/informacion/discursos/50614-palabras-del-presidente-javier-milei-en-la-cena-de-camaraderia-de-las-fuerzas-armadas\n",
      "('Connection aborted.', RemoteDisconnected('Remote end closed connection without response'))\u001b[0m\n"
     ]
    },
    {
     "name": "stderr",
     "output_type": "stream",
     "text": [
      "Discursos en la página:  78%|███████▊  | 31/40 [02:30<00:43,  4.85s/it]"
     ]
    },
    {
     "name": "stdout",
     "output_type": "stream",
     "text": [
      "\u001b[31m[ERROR] No se pudo acceder a: https://www.casarosada.gob.ar/informacion/discursos/50612-palabras-del-presidente-de-la-nacion-en-congreso-de-inversiones-inmobiliarias\n",
      "('Connection aborted.', RemoteDisconnected('Remote end closed connection without response'))\u001b[0m\n"
     ]
    },
    {
     "name": "stderr",
     "output_type": "stream",
     "text": [
      "Discursos en la página:  85%|████████▌ | 34/40 [02:47<00:33,  5.53s/it]"
     ]
    },
    {
     "name": "stdout",
     "output_type": "stream",
     "text": [
      "\u001b[31m[ERROR] No se pudo acceder a: https://www.casarosada.gob.ar/informacion/discursos/50593-palabras-del-presidente-de-la-nacion-javier-milei-en-la-exposicion-de-ganaderia-agricultura-e-industria-internacional-en-la-rural\n",
      "('Connection aborted.', RemoteDisconnected('Remote end closed connection without response'))\u001b[0m\n"
     ]
    },
    {
     "name": "stderr",
     "output_type": "stream",
     "text": [
      "Discursos en la página: 100%|██████████| 40/40 [03:18<00:00,  4.95s/it]\n"
     ]
    },
    {
     "name": "stdout",
     "output_type": "stream",
     "text": [
      "\u001b[32m\n",
      "Scraping página 3...\u001b[0m\n",
      "\u001b[31m[ERROR] No se pudo acceder a: https://www.casarosada.gob.ar/informacion/discursos?start=80\n",
      "('Connection aborted.', RemoteDisconnected('Remote end closed connection without response'))\u001b[0m\n",
      "\u001b[33mNo se encontraron más discursos. Fin del scraping.\u001b[0m\n",
      "\u001b[34m\n",
      "Scraping completado exitosamente.\u001b[0m\n"
     ]
    }
   ],
   "source": [
    "# Ensure output directory exists\n",
    "os.makedirs(OUTPUT_DIR, exist_ok=True)\n",
    "\n",
    "\n",
    "def safe_get(url):\n",
    "    try:\n",
    "        response = requests.get(url, headers=HEADERS, timeout=10)\n",
    "        response.raise_for_status()\n",
    "        return response\n",
    "    except requests.exceptions.RequestException as e:\n",
    "        print(Fore.RED + f\"[ERROR] No se pudo acceder a: {url}\\n{e}\" + Style.RESET_ALL)\n",
    "        return None\n",
    "\n",
    "\n",
    "def get_speech_links(page_url):\n",
    "    response = safe_get(page_url)\n",
    "    if not response:\n",
    "        return []\n",
    "    soup = BeautifulSoup(response.content, \"html.parser\")\n",
    "    links = soup.find_all(\"a\", class_=\"panel\")\n",
    "    return [link[\"href\"] for link in links]\n",
    "\n",
    "\n",
    "def scrape_speech(speech_url):\n",
    "    response = safe_get(speech_url)\n",
    "    if not response:\n",
    "        return \"No Title\", \"No Date\", \"No Content\"\n",
    "\n",
    "    soup = BeautifulSoup(response.content, \"html.parser\")\n",
    "\n",
    "    title_tag = soup.find(\"h2\", class_=\"panel-title\")\n",
    "    date_tag = soup.find(\"time\")\n",
    "    content_tag = soup.find(\"div\", class_=\"item-page\")\n",
    "\n",
    "    title = title_tag.get_text(strip=True) if title_tag else \"No Title\"\n",
    "    date = date_tag.get_text(strip=True) if date_tag else \"No Date\"\n",
    "    content = content_tag.get_text(strip=True) if content_tag else \"No Content\"\n",
    "\n",
    "    return title, date, content\n",
    "\n",
    "\n",
    "def save_speech_to_txt(speech_id, date, content):\n",
    "    formatted_date = date.replace(\" \", \"_\").replace(\",\", \"\").replace(\":\", \"\")\n",
    "    filename = os.path.join(OUTPUT_DIR, f\"{speech_id}_{formatted_date}.txt\")\n",
    "    with open(filename, \"w\", encoding=\"utf-8\") as file:\n",
    "        file.write(content)\n",
    "\n",
    "\n",
    "def load_progress():\n",
    "    if os.path.exists(PROGRESS_FILE):\n",
    "        with open(PROGRESS_FILE, \"r\") as file:\n",
    "            return set(line.strip() for line in file)\n",
    "    return set()\n",
    "\n",
    "\n",
    "def save_progress(speech_id):\n",
    "    with open(PROGRESS_FILE, \"a\") as file:\n",
    "        file.write(f\"{speech_id}\\n\")\n",
    "\n",
    "\n",
    "def main():\n",
    "    all_speeches = []\n",
    "    page_number = 1\n",
    "    speech_id = 1\n",
    "    completed_speeches = load_progress()\n",
    "\n",
    "    while True:\n",
    "        page_url = f\"{BASE_URL}?start={(page_number - 1) * 40}\"\n",
    "        print(Fore.GREEN + f\"\\nScraping página {page_number}...\" + Style.RESET_ALL)\n",
    "        speech_links = get_speech_links(page_url)\n",
    "\n",
    "        if not speech_links:\n",
    "            print(Fore.YELLOW + \"No se encontraron más discursos. Fin del scraping.\" + Style.RESET_ALL)\n",
    "            break\n",
    "\n",
    "        for link in tqdm(speech_links, desc=\"Discursos en la página\"):\n",
    "            full_url = f\"https://www.casarosada.gob.ar{link}\"\n",
    "            if str(speech_id) in completed_speeches:\n",
    "                speech_id += 1\n",
    "                continue\n",
    "\n",
    "            title, date, content = scrape_speech(full_url)\n",
    "            all_speeches.append([title, date, full_url, content])\n",
    "            save_speech_to_txt(speech_id, date, content)\n",
    "            save_progress(speech_id)\n",
    "            speech_id += 1\n",
    "\n",
    "            # Pausa aleatoria para evitar bloqueo\n",
    "            time.sleep(random.uniform(1.5, 3.0))\n",
    "\n",
    "        page_number += 1\n",
    "\n",
    "    # Guardar CSV\n",
    "    with open(CSV_FILE, \"w\", newline=\"\", encoding=\"utf-8\") as csvfile:\n",
    "        writer = csv.writer(csvfile)\n",
    "        writer.writerow([\"Title\", \"Date\", \"URL\", \"Content\"])\n",
    "        writer.writerows(all_speeches)\n",
    "\n",
    "    print(Fore.BLUE + \"\\nScraping completado exitosamente.\" + Style.RESET_ALL)\n",
    "\n",
    "\n",
    "if __name__ == \"__main__\":\n",
    "    main()"
   ]
  }
 ],
 "metadata": {
  "kernelspec": {
   "display_name": "Python 3",
   "language": "python",
   "name": "python3"
  },
  "language_info": {
   "codemirror_mode": {
    "name": "ipython",
    "version": 3
   },
   "file_extension": ".py",
   "mimetype": "text/x-python",
   "name": "python",
   "nbconvert_exporter": "python",
   "pygments_lexer": "ipython3",
   "version": "3.12.2"
  }
 },
 "nbformat": 4,
 "nbformat_minor": 5
}
